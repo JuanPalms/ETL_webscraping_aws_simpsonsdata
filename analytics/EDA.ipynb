{
 "cells": [
  {
   "cell_type": "markdown",
   "id": "856ff97d-f1a3-402f-8d2c-a9baae4fbe7b",
   "metadata": {
    "tags": []
   },
   "source": [
    "# EDA: Capitulos de los simpsons con invitados especiales"
   ]
  },
  {
   "cell_type": "code",
   "execution_count": 12,
   "id": "c60f0f0c-9119-450c-89c6-64fe298ce242",
   "metadata": {
    "tags": []
   },
   "outputs": [],
   "source": [
    "import pandas as pd\n",
    "import matplotlib.pyplot as plt\n",
    "from utility import load_config\n",
    "import seaborn as sns"
   ]
  },
  {
   "cell_type": "code",
   "execution_count": 5,
   "id": "efc1b1ed-b9cf-40d5-ae45-28a86960ae4b",
   "metadata": {
    "tags": []
   },
   "outputs": [],
   "source": [
    "# Load config file calling load_config function\n",
    "config_f = load_config(\"config.yaml\")"
   ]
  },
  {
   "cell_type": "code",
   "execution_count": 6,
   "id": "ef2f4de5-9b52-4d75-a562-7e457b06fff3",
   "metadata": {
    "tags": []
   },
   "outputs": [],
   "source": [
    "data=pd.read_csv(os.path.join(config_f[\"data_directory\"]+config_f[\"clean_data\"],\"simpsons_analytics.csv\"))"
   ]
  },
  {
   "cell_type": "code",
   "execution_count": 8,
   "id": "8ef94e65-7965-4d5a-9d46-5a564bc59a62",
   "metadata": {
    "tags": []
   },
   "outputs": [
    {
     "data": {
      "text/html": [
       "<div>\n",
       "<style scoped>\n",
       "    .dataframe tbody tr th:only-of-type {\n",
       "        vertical-align: middle;\n",
       "    }\n",
       "\n",
       "    .dataframe tbody tr th {\n",
       "        vertical-align: top;\n",
       "    }\n",
       "\n",
       "    .dataframe thead th {\n",
       "        text-align: right;\n",
       "    }\n",
       "</style>\n",
       "<table border=\"1\" class=\"dataframe\">\n",
       "  <thead>\n",
       "    <tr style=\"text-align: right;\">\n",
       "      <th></th>\n",
       "      <th>season</th>\n",
       "      <th>episode_title</th>\n",
       "      <th>episode</th>\n",
       "      <th>viewer</th>\n",
       "      <th>guest_star</th>\n",
       "      <th>rol_himself_herself</th>\n",
       "      <th>guest</th>\n",
       "    </tr>\n",
       "  </thead>\n",
       "  <tbody>\n",
       "    <tr>\n",
       "      <th>0</th>\n",
       "      <td>1.0</td>\n",
       "      <td>Simpsons Roasting on an Open Fire</td>\n",
       "      <td>1</td>\n",
       "      <td>26.7</td>\n",
       "      <td>no_guest_star</td>\n",
       "      <td>-1</td>\n",
       "      <td>0</td>\n",
       "    </tr>\n",
       "    <tr>\n",
       "      <th>1</th>\n",
       "      <td>1.0</td>\n",
       "      <td>Bart the Genius</td>\n",
       "      <td>2</td>\n",
       "      <td>24.5</td>\n",
       "      <td>Marcia Wallace</td>\n",
       "      <td>0</td>\n",
       "      <td>1</td>\n",
       "    </tr>\n",
       "    <tr>\n",
       "      <th>2</th>\n",
       "      <td>1.0</td>\n",
       "      <td>Homer's Odyssey</td>\n",
       "      <td>3</td>\n",
       "      <td>27.5</td>\n",
       "      <td>Marcia Wallace</td>\n",
       "      <td>0</td>\n",
       "      <td>1</td>\n",
       "    </tr>\n",
       "    <tr>\n",
       "      <th>3</th>\n",
       "      <td>1.0</td>\n",
       "      <td>Homer's Odyssey</td>\n",
       "      <td>3</td>\n",
       "      <td>27.5</td>\n",
       "      <td>Sam McMurray</td>\n",
       "      <td>0</td>\n",
       "      <td>1</td>\n",
       "    </tr>\n",
       "    <tr>\n",
       "      <th>4</th>\n",
       "      <td>1.0</td>\n",
       "      <td>There's No Disgrace Like Home</td>\n",
       "      <td>4</td>\n",
       "      <td>20.2</td>\n",
       "      <td>no_guest_star</td>\n",
       "      <td>-1</td>\n",
       "      <td>0</td>\n",
       "    </tr>\n",
       "  </tbody>\n",
       "</table>\n",
       "</div>"
      ],
      "text/plain": [
       "   season                      episode_title  episode  viewer      guest_star  \\\n",
       "0     1.0  Simpsons Roasting on an Open Fire        1    26.7   no_guest_star   \n",
       "1     1.0                    Bart the Genius        2    24.5  Marcia Wallace   \n",
       "2     1.0                    Homer's Odyssey        3    27.5  Marcia Wallace   \n",
       "3     1.0                    Homer's Odyssey        3    27.5    Sam McMurray   \n",
       "4     1.0      There's No Disgrace Like Home        4    20.2   no_guest_star   \n",
       "\n",
       "   rol_himself_herself  guest  \n",
       "0                   -1      0  \n",
       "1                    0      1  \n",
       "2                    0      1  \n",
       "3                    0      1  \n",
       "4                   -1      0  "
      ]
     },
     "execution_count": 8,
     "metadata": {},
     "output_type": "execute_result"
    }
   ],
   "source": [
    "data.head()"
   ]
  },
  {
   "cell_type": "markdown",
   "id": "ec2bd08e-7a2a-4631-9d66-d21bc86d917b",
   "metadata": {
    "tags": []
   },
   "source": [
    "## Diferencias de medias"
   ]
  },
  {
   "cell_type": "code",
   "execution_count": 17,
   "id": "083639e0-7b96-4490-8e49-faaf791b1b64",
   "metadata": {
    "tags": []
   },
   "outputs": [
    {
     "data": {
      "text/html": [
       "<div>\n",
       "<style scoped>\n",
       "    .dataframe tbody tr th:only-of-type {\n",
       "        vertical-align: middle;\n",
       "    }\n",
       "\n",
       "    .dataframe tbody tr th {\n",
       "        vertical-align: top;\n",
       "    }\n",
       "\n",
       "    .dataframe thead th {\n",
       "        text-align: right;\n",
       "    }\n",
       "</style>\n",
       "<table border=\"1\" class=\"dataframe\">\n",
       "  <thead>\n",
       "    <tr style=\"text-align: right;\">\n",
       "      <th></th>\n",
       "      <th>season</th>\n",
       "      <th>episode</th>\n",
       "      <th>viewer</th>\n",
       "      <th>guest</th>\n",
       "    </tr>\n",
       "    <tr>\n",
       "      <th>rol_himself_herself</th>\n",
       "      <th></th>\n",
       "      <th></th>\n",
       "      <th></th>\n",
       "      <th></th>\n",
       "    </tr>\n",
       "  </thead>\n",
       "  <tbody>\n",
       "    <tr>\n",
       "      <th>-1</th>\n",
       "      <td>10.267442</td>\n",
       "      <td>9.768595</td>\n",
       "      <td>13.788198</td>\n",
       "      <td>1.983471</td>\n",
       "    </tr>\n",
       "    <tr>\n",
       "      <th>0</th>\n",
       "      <td>10.243094</td>\n",
       "      <td>11.756906</td>\n",
       "      <td>14.877079</td>\n",
       "      <td>1.000000</td>\n",
       "    </tr>\n",
       "    <tr>\n",
       "      <th>1</th>\n",
       "      <td>11.769585</td>\n",
       "      <td>11.004608</td>\n",
       "      <td>14.038618</td>\n",
       "      <td>1.000000</td>\n",
       "    </tr>\n",
       "  </tbody>\n",
       "</table>\n",
       "</div>"
      ],
      "text/plain": [
       "                        season    episode     viewer     guest\n",
       "rol_himself_herself                                           \n",
       "-1                   10.267442   9.768595  13.788198  1.983471\n",
       " 0                   10.243094  11.756906  14.877079  1.000000\n",
       " 1                   11.769585  11.004608  14.038618  1.000000"
      ]
     },
     "execution_count": 17,
     "metadata": {},
     "output_type": "execute_result"
    }
   ],
   "source": [
    "(data.groupby(by=[\"rol_himself_herself\"]).mean(numeric_only=True))"
   ]
  },
  {
   "cell_type": "markdown",
   "id": "095d26dc-5fcf-4d2c-a703-e98cc90f3bee",
   "metadata": {},
   "source": [
    "## Visalizacion de datos"
   ]
  },
  {
   "cell_type": "code",
   "execution_count": 18,
   "id": "e45ca40c-0173-457f-8efb-13137a55e0f4",
   "metadata": {
    "tags": []
   },
   "outputs": [
    {
     "data": {
      "image/png": "[encoded data removed]",
      "text/plain": [
       "<Figure size 640x480 with 1 Axes>"
      ]
     },
     "metadata": {},
     "output_type": "display_data"
    }
   ],
   "source": [
    "sns.boxplot(x='rol_himself_herself', y='viewer', data=data)\n",
    "plt.xlabel('rol_himself_herself')\n",
    "plt.ylabel('viewer')\n",
    "\n",
    "plt.show()\n"
   ]
  }
 ],
 "metadata": {
  "kernelspec": {
   "display_name": "Python 3 (ipykernel)",
   "language": "python",
   "name": "python3"
  },
  "language_info": {
   "codemirror_mode": {
    "name": "ipython",
    "version": 3
   },
   "file_extension": ".py",
   "mimetype": "text/x-python",
   "name": "python",
   "nbconvert_exporter": "python",
   "pygments_lexer": "ipython3",
   "version": "3.10.9"
  }
 },
 "nbformat": 4,
 "nbformat_minor": 5
}
